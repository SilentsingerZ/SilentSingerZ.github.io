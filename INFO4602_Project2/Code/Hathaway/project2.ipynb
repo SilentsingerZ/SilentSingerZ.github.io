{
 "cells": [
  {
   "cell_type": "markdown",
   "metadata": {},
   "source": [
    "# INFO 4602: Project 2 \n",
    "***\n",
    "\n",
    "**Name**: Hathaway Zhang\n",
    "\n",
    "**Group**: 4\n",
    "***\n",
    "\n",
    "This python notebook cleaned the raw data and output the cleaned data into csv for further visualizations. An interaction plot is also included based on the major and years. "
   ]
  },
  {
   "cell_type": "code",
   "execution_count": 115,
   "metadata": {},
   "outputs": [],
   "source": [
    "import pandas as pd\n",
    "import numpy as np\n",
    "import csv\n",
    "import string\n",
    "\n",
    "import matplotlib as mpl\n",
    "import matplotlib.pyplot as plt\n",
    "import seaborn as sns \n",
    "\n",
    "from ipywidgets import widgets, interactive\n",
    "\n",
    "%matplotlib inline"
   ]
  },
  {
   "cell_type": "markdown",
   "metadata": {},
   "source": [
    "***\n",
    "Data Input and Clean\n",
    "***"
   ]
  },
  {
   "cell_type": "code",
   "execution_count": 134,
   "metadata": {},
   "outputs": [],
   "source": [
    "dfDirtyyy = pd.read_csv(\"https://raw.githubusercontent.com/INFO-4602-5602/project-2-ncwit-team-4/master/NCWIT_DataV2_RawData.csv\",low_memory=False)"
   ]
  },
  {
   "cell_type": "code",
   "execution_count": 135,
   "metadata": {},
   "outputs": [],
   "source": [
    "string.replace(dfDirtyyy, 'CS and/or Eng Multiple Majors (data submitted in aggregation)', 'Computer Science + X')\n",
    "string.replace(dfDirtyyy, 'Computer and Information Science', 'Computer Science + X')\n",
    "string.replace(dfDirtyyy, 'Mathematics and Computer Science', 'Computer Science + X')\n",
    "string.replace(dfDirtyyy, 'Computer Software and Media Applications', 'Computer Science + X')\n",
    "string.replace(dfDirtyyy, 'Mathematics and Computer Science', 'Computer Science + X')\n",
    "string.replace(dfDirtyyy, 'Computer Science &', 'Computer Science + X')\n",
    "string.replace(dfDirtyyy, 'Computer Science +', 'Computer Science + X')\n",
    "string.replace(dfDirtyyy, 'Electrical & Computer Engineering', 'Computer Science + X')\n",
    "string.replace(dfDirtyyy, 'Electrical and Computer Engineering', 'Computer Science + X')\n",
    "string.replace(dfDirtyyy, 'Electrical, Electronics and Communications Engineering', 'Computer Science + X')\n",
    "string.replace(dfDirtyyy, 'Programming', 'Computer Science')\n",
    "string.replace(dfDirtyyy, 'Computer Engineering', 'Computer Science')\n",
    "string.replace(dfDirtyyy, 'Computer Engineering Technology', 'Computer Science')\n",
    "string.replace(dfDirtyyy, 'Computer Science (BS)', 'Computer Science')\n",
    "string.replace(dfDirtyyy, 'Computer Science (BA)', 'Computer Science')\n",
    "string.replace(dfDirtyyy, 'Applied Computer Science', 'Computer Science')\n",
    "string.replace(dfDirtyyy, 'Computer Science / Engineering', 'Computer Science')\n",
    "string.replace(dfDirtyyy, 'Computer Support', 'Computer Support Specialist')\n",
    "string.replace(dfDirtyyy, 'Information Technology', 'Information Science')\n",
    "string.replace(dfDirtyyy, 'Informatics', 'Information Science')\n",
    "string.replace(dfDirtyyy, 'Information', 'Information Science')\n",
    "string.replace(dfDirtyyy, 'Applied Information Technology', 'Information Science')\n",
    "string.replace(dfDirtyyy, 'Information Sciences', 'Information Science')\n",
    "string.replace(dfDirtyyy, 'Computer Information Systems', 'Information Science')\n",
    "string.replace(dfDirtyyy, 'Computer and Information Systems', 'Information Science')\n",
    "string.replace(dfDirtyyy, 'Web Design/Graphicsg', 'Web Design')\n",
    "string.replace(dfDirtyyy, 'Telecomm Technology', 'Information Technology Management')\n",
    "string.replace(dfDirtyyy, 'Security', 'Cybersecurity')\n",
    "string.replace(dfDirtyyy, 'Network Security', 'Cybersecurity')\n",
    "string.replace(dfDirtyyy, 'Information Assurance/Cybersecurity', 'Cybersecurity')\n",
    "string.replace(dfDirtyyy, 'Applied Engineering Sciences', 'General Engineering')\n",
    "string.replace(dfDirtyyy, 'Computer Systems Engineering', 'Systems Engineering')\n",
    "string.replace(dfDirtyyy, 'Computer Engineering Technology', 'Engineering Technology')\n",
    "string.replace(dfDirtyyy, 'Computational Mathematics', 'Mathematics')\n",
    "\n",
    "string.replace(dfDirtyyy, '2003-2004', '2003')\n",
    "string.replace(dfDirtyyy, '2004-2005', '2004')\n",
    "string.replace(dfDirtyyy, '2005-2006', '2005')\n",
    "string.replace(dfDirtyyy, '2006-2007', '2006')\n",
    "string.replace(dfDirtyyy, '2007-2008', '2007')\n",
    "string.replace(dfDirtyyy, '2008-2009', '2008')\n",
    "string.replace(dfDirtyyy, '2009-2010', '2009')\n",
    "string.replace(dfDirtyyy, '2010-2011', '2010')\n",
    "string.replace(dfDirtyyy, '2011-2012', '2011')\n",
    "string.replace(dfDirtyyy, '2012-2013', '2012')\n",
    "string.replace(dfDirtyyy, '2013-2014', '2013')\n",
    "string.replace(dfDirtyyy, '2014-2015', '2014')\n",
    "string.replace(dfDirtyyy, '2015-2016', '2015')\n",
    "string.replace(dfDirtyyy, '2016-2017', '2016')"
   ]
  },
  {
   "cell_type": "code",
   "execution_count": 118,
   "metadata": {},
   "outputs": [],
   "source": [
    "dfR = dfDirtyyy[['Major Program Name','School Year',\n",
    "                 'Enroll, Female: Native Hawaiian/Other Pacific Islander (Enrl F)',\n",
    "                 'Enroll, Female: White (Enrl F)',\n",
    "                 'Enroll, Female: Black/African American (Enrl F)',\n",
    "                 'Enroll, Female: Hispanics of any race (Enrl F)',\n",
    "                 'Enroll, Female: American Indian/Alaska Native (Enrl F)']]\n",
    "dfR.to_csv('race.csv', sep=',')"
   ]
  },
  {
   "cell_type": "code",
   "execution_count": 119,
   "metadata": {},
   "outputs": [],
   "source": [
    "dfDirtyy = dfDirtyyy.drop(dfDirtyyy[dfDirtyyy['Enroll, Female: Avg. SAT Math Score (Enrl F)'] > 800].index)\n",
    "dfDirty = dfDirtyy.dropna(subset=['Major Program Name','School Year',\n",
    "                                  'Enroll, Female: Avg. ACT Math Score (Enrl F)',\n",
    "                                  'Enroll, Female: Avg. SAT Math Score (Enrl F)']).copy()\n",
    "dfDirty['School Year'] = dfDirty['School Year'].astype(str).astype(int)\n",
    "dfClean_SAT = dfDirty[['Major Program Name','School Year',\n",
    "                                  'Enroll, Female: Avg. SAT Math Score (Enrl F)']]\n",
    "dfClean_ACT = dfDirty[['Major Program Name','School Year',\n",
    "                                  'Enroll, Female: Avg. ACT Math Score (Enrl F)']]"
   ]
  },
  {
   "cell_type": "code",
   "execution_count": 75,
   "metadata": {},
   "outputs": [],
   "source": [
    "dfClean_SAT.to_csv('sat.csv', sep=',')\n",
    "dfClean_ACT.to_csv('act.csv', sep=',')"
   ]
  },
  {
   "cell_type": "code",
   "execution_count": 76,
   "metadata": {
    "scrolled": true
   },
   "outputs": [
    {
     "data": {
      "text/html": [
       "<div>\n",
       "<table border=\"1\" class=\"dataframe\">\n",
       "  <thead>\n",
       "    <tr style=\"text-align: right;\">\n",
       "      <th></th>\n",
       "      <th>Major Program Name</th>\n",
       "      <th>School Year</th>\n",
       "      <th>ACT Math Score</th>\n",
       "      <th>SAT Math Score</th>\n",
       "    </tr>\n",
       "  </thead>\n",
       "  <tbody>\n",
       "    <tr>\n",
       "      <th>73</th>\n",
       "      <td>Computer Science + X</td>\n",
       "      <td>2014</td>\n",
       "      <td>29.58</td>\n",
       "      <td>666.67</td>\n",
       "    </tr>\n",
       "    <tr>\n",
       "      <th>86</th>\n",
       "      <td>Computer Science + X</td>\n",
       "      <td>2016</td>\n",
       "      <td>34.00</td>\n",
       "      <td>752.00</td>\n",
       "    </tr>\n",
       "    <tr>\n",
       "      <th>90</th>\n",
       "      <td>Computer Science + X</td>\n",
       "      <td>2010</td>\n",
       "      <td>21.00</td>\n",
       "      <td>565.00</td>\n",
       "    </tr>\n",
       "    <tr>\n",
       "      <th>91</th>\n",
       "      <td>Computer Science + X</td>\n",
       "      <td>2011</td>\n",
       "      <td>19.00</td>\n",
       "      <td>380.00</td>\n",
       "    </tr>\n",
       "    <tr>\n",
       "      <th>92</th>\n",
       "      <td>Computer Science + X</td>\n",
       "      <td>2012</td>\n",
       "      <td>20.00</td>\n",
       "      <td>450.00</td>\n",
       "    </tr>\n",
       "  </tbody>\n",
       "</table>\n",
       "</div>"
      ],
      "text/plain": [
       "      Major Program Name  School Year  ACT Math Score  SAT Math Score\n",
       "73  Computer Science + X         2014           29.58          666.67\n",
       "86  Computer Science + X         2016           34.00          752.00\n",
       "90  Computer Science + X         2010           21.00          565.00\n",
       "91  Computer Science + X         2011           19.00          380.00\n",
       "92  Computer Science + X         2012           20.00          450.00"
      ]
     },
     "execution_count": 76,
     "metadata": {},
     "output_type": "execute_result"
    }
   ],
   "source": [
    "dfScore = dfDirty[['Major Program Name','School Year',\n",
    "                    'Enroll, Female: Avg. ACT Math Score (Enrl F)',\n",
    "                    'Enroll, Female: Avg. SAT Math Score (Enrl F)']]\n",
    "dfScore = dfScore.rename(columns={'Enroll, Female: Avg. ACT Math Score (Enrl F)': 'ACT Math Score', \n",
    "                                  'Enroll, Female: Avg. SAT Math Score (Enrl F)': 'SAT Math Score'})\n",
    "dfScore.head()\n",
    "#dfScore.to_csv('score.csv', sep=',')"
   ]
  },
  {
   "cell_type": "code",
   "execution_count": 77,
   "metadata": {},
   "outputs": [],
   "source": [
    "dfScore = dfScore.sort_values(by=['School Year'])\n",
    "dfdouble = dfScore.groupby(['School Year','Major Program Name']).mean()"
   ]
  },
  {
   "cell_type": "code",
   "execution_count": 78,
   "metadata": {},
   "outputs": [],
   "source": [
    "dfScore = dfScore.sort_values(by=['School Year'])\n",
    "dfdouble = dfScore[dfScore['Major Program Name'] == 'Computer Science + X'].groupby('School Year').mean()\n",
    "dfcs = dfScore[dfScore['Major Program Name'] == 'Computer Science'].groupby('School Year').mean()\n",
    "dfinfo = dfScore[dfScore['Major Program Name'] == 'Information Science'].groupby('School Year').mean()\n",
    "dfge = dfScore[dfScore['Major Program Name'] == 'General Engineering'].groupby('School Year').mean()\n",
    "dfae = dfScore[dfScore['Major Program Name'] == 'Aerospace Engineering'].groupby('School Year').mean()\n",
    "dfce = dfScore[dfScore['Major Program Name'] == 'Chemical Engineering'].groupby('School Year').mean()\n",
    "dfee = dfScore[dfScore['Major Program Name'] == 'Electrical Engineering'].groupby('School Year').mean()\n",
    "dfse = dfScore[dfScore['Major Program Name'] == 'Software Engineering'].groupby('School Year').mean()\n",
    "dfse = dfScore[dfScore['Major Program Name'] == 'Mechanical Engineering'].groupby('School Year').mean()"
   ]
  },
  {
   "cell_type": "code",
   "execution_count": 79,
   "metadata": {},
   "outputs": [
    {
     "name": "stdout",
     "output_type": "stream",
     "text": [
      "<class 'pandas.core.frame.DataFrame'>\n",
      "Int64Index: 203 entries, 1782 to 2592\n",
      "Data columns (total 4 columns):\n",
      "Major Program Name    203 non-null object\n",
      "School Year           203 non-null int64\n",
      "ACT Math Score        203 non-null float64\n",
      "SAT Math Score        203 non-null float64\n",
      "dtypes: float64(2), int64(1), object(1)\n",
      "memory usage: 7.9+ KB\n"
     ]
    }
   ],
   "source": [
    "dfScore['School Year'].reset_index(drop=True)\n",
    "dfScore.info()"
   ]
  },
  {
   "cell_type": "markdown",
   "metadata": {},
   "source": [
    "***\n",
    "Interaction Plot\n",
    "***"
   ]
  },
  {
   "cell_type": "code",
   "execution_count": 80,
   "metadata": {},
   "outputs": [],
   "source": [
    "# This function adds annotates to each bar\n",
    "def label(rects):\n",
    "    for rect in rects:\n",
    "                y_value = rect.get_height()\n",
    "                x_value = rect.get_x() + rect.get_width() / 2\n",
    "                space = 2\n",
    "                va = 'bottom'\n",
    "                plt.annotate('{:.1f}'.format(y_value),(x_value, y_value),xytext=(0, space),\n",
    "                            textcoords=\"offset points\",ha='center',\n",
    "                            va=va, fontsize = 13)"
   ]
  },
  {
   "cell_type": "code",
   "execution_count": 81,
   "metadata": {},
   "outputs": [],
   "source": [
    "start_year = widgets.BoundedFloatText(\n",
    "    value=dfScore['School Year'].min(),\n",
    "    min=dfScore['School Year'].min(),\n",
    "    max=dfScore['School Year'].max(),\n",
    "    step=1,\n",
    "    description='Start Year:',\n",
    "    disabled=False,\n",
    "    color='black'\n",
    ")\n",
    "end_year = widgets.BoundedFloatText(\n",
    "    value=dfScore['School Year'].max(),\n",
    "    min=dfScore['School Year'].min(),\n",
    "    max=dfScore['School Year'].max(),\n",
    "    step=1,\n",
    "    description='End Year:',\n",
    "    disabled=False,\n",
    "    color='black'\n",
    ")\n",
    "\n",
    "# Make a dropdown to select the Area, or \"All\"\n",
    "area = widgets.Dropdown(\n",
    "    options=['All'] + list(dfScore['Major Program Name'].unique()),\n",
    "    value='All',\n",
    "    description='Major:')"
   ]
  },
  {
   "cell_type": "code",
   "execution_count": 86,
   "metadata": {},
   "outputs": [],
   "source": [
    "def plotit(area, start_year, end_year):\n",
    "    \n",
    "    if start_year > end_year:\n",
    "        print(\"You must select a start year that is prior to end year\")\n",
    "    else:\n",
    "        df2 = dfScore.copy()\n",
    "        if area != 'All':\n",
    "            df2 = df2[df2['Major Program Name'] == area]\n",
    "\n",
    "        # Filter between min and max years (inclusive)\n",
    "        df2 = df2[(df2['School Year'] >= start_year) & (df2['School Year'] <= end_year)]\n",
    "\n",
    "        # Plot\n",
    "        if len(df2) > 0:\n",
    "            graph = df2.groupby(['School Year']).mean().unstack()\n",
    "            pic = graph.plot(kind='bar',stacked=False,fontsize=16,figsize=(19,12))\n",
    "            plt.xticks(rotation=85)\n",
    "            plt.title(\"Major is {}\".format(area),fontsize=16)\n",
    "            plt.ylabel('Scores', rotation=-0, fontsize=16)\n",
    "            \n",
    "            rects = pic.patches\n",
    "            label(rects)\n",
    "                       \n",
    "            plt.minorticks_on()\n",
    "            plt.grid(which='major', linestyle='-', linewidth='0.5', color='red', alpha=0.5)\n",
    "            plt.grid(which='minor', linestyle=':', linewidth='0.5', color='black', alpha=0.65)\n",
    "            plt.show();\n",
    "            \n",
    "        else:\n",
    "            print(\"No data to show for current selection\")"
   ]
  },
  {
   "cell_type": "code",
   "execution_count": 87,
   "metadata": {
    "scrolled": false
   },
   "outputs": [
    {
     "data": {
      "application/vnd.jupyter.widget-view+json": {
       "model_id": "1cb8e23397e34530b4e46012b83f9c8e",
       "version_major": 2,
       "version_minor": 0
      },
      "text/plain": [
       "A Jupyter Widget"
      ]
     },
     "metadata": {},
     "output_type": "display_data"
    }
   ],
   "source": [
    "interactive(plotit, area=area, start_year=start_year, end_year=end_year)"
   ]
  },
  {
   "cell_type": "markdown",
   "metadata": {},
   "source": [
    "***\n",
    "Pie Graph based on race and year\n",
    "***"
   ]
  },
  {
   "cell_type": "code",
   "execution_count": 127,
   "metadata": {},
   "outputs": [],
   "source": [
    "dfdouble.to_csv('score.csv', sep=',')"
   ]
  },
  {
   "cell_type": "code",
   "execution_count": 131,
   "metadata": {},
   "outputs": [
    {
     "name": "stdout",
     "output_type": "stream",
     "text": [
      "<class 'pandas.core.frame.DataFrame'>\n",
      "RangeIndex: 3905 entries, 0 to 3904\n",
      "Columns: 269 entries, Record# to Race/Ethnicity Unknown (Tot. M)\n",
      "dtypes: float64(262), object(7)\n",
      "memory usage: 8.0+ MB\n"
     ]
    }
   ],
   "source": [
    "dfDirtyyy['Enroll, Female: Native Hawaiian/Other Pacific Islander (Enrl F)'].fillna(0)\n",
    "dfDirtyyy['Enroll, Female: White (Enrl F)'].fillna(0)\n",
    "dfDirtyyy['Enroll, Female: Black/African American (Enrl F)'].fillna(0)\n",
    "dfDirtyyy['Enroll, Female: Hispanics of any race (Enrl F)'].fillna(0)\n",
    "dfDirtyyy['Enroll, Female: American Indian/Alaska Native (Enrl F)'].fillna(0)\n",
    "dfDirtyyy.info()"
   ]
  },
  {
   "cell_type": "code",
   "execution_count": 129,
   "metadata": {},
   "outputs": [
    {
     "name": "stdout",
     "output_type": "stream",
     "text": [
      "<class 'pandas.core.frame.DataFrame'>\n",
      "Index: 14 entries, 2003 to 2016\n",
      "Data columns (total 6 columns):\n",
      "Asian                                     14 non-null float64\n",
      "Native Hawaiian/Other Pacific Islander    14 non-null float64\n",
      "White                                     14 non-null float64\n",
      "African American                          14 non-null float64\n",
      "Hispanics                                 14 non-null float64\n",
      "American Indian/Alaska Native             14 non-null float64\n",
      "dtypes: float64(6)\n",
      "memory usage: 784.0+ bytes\n"
     ]
    }
   ],
   "source": [
    "dfRace = dfDirtyyy[['Major Program Name','School Year',\n",
    "                  'Enroll, Female: Asian (Enrl F)',\n",
    "                  'Enroll, Female: Native Hawaiian/Other Pacific Islander (Enrl F)',\n",
    "                  'Enroll, Female: White (Enrl F)',\n",
    "                  'Enroll, Female: Black/African American (Enrl F)',\n",
    "                  'Enroll, Female: Hispanics of any race (Enrl F)',\n",
    "                  'Enroll, Female: American Indian/Alaska Native (Enrl F)']]\n",
    "df = dfRace.groupby(['School Year'], as_index=False).sum()\n",
    "df.drop(df.index[:1], inplace=True)\n",
    "df = df.rename(columns={'Enroll, Female: Asian (Enrl F)': 'Asian', \n",
    "                        'Enroll, Female: Native Hawaiian/Other Pacific Islander (Enrl F)': 'Native Hawaiian/Other Pacific Islander',\n",
    "                        'Enroll, Female: White (Enrl F)': 'White',\n",
    "                        'Enroll, Female: Black/African American (Enrl F)': 'African American',\n",
    "                        'Enroll, Female: Hispanics of any race (Enrl F)': 'Hispanics',\n",
    "                        'Enroll, Female: American Indian/Alaska Native (Enrl F)': 'American Indian/Alaska Native'})\n",
    "df.to_csv('race.csv', sep=',')\n",
    "df = df.groupby(['School Year']).sum()\n",
    "df.info()"
   ]
  },
  {
   "cell_type": "code",
   "execution_count": 122,
   "metadata": {},
   "outputs": [
    {
     "data": {
      "text/html": [
       "<div>\n",
       "<table border=\"1\" class=\"dataframe\">\n",
       "  <thead>\n",
       "    <tr style=\"text-align: right;\">\n",
       "      <th></th>\n",
       "      <th>Asian</th>\n",
       "      <th>Native Hawaiian/Other Pacific Islander</th>\n",
       "      <th>White</th>\n",
       "      <th>African American</th>\n",
       "      <th>Hispanics</th>\n",
       "      <th>American Indian/Alaska Native</th>\n",
       "    </tr>\n",
       "  </thead>\n",
       "  <tbody>\n",
       "    <tr>\n",
       "      <th>0</th>\n",
       "      <td>64.0</td>\n",
       "      <td>0.0</td>\n",
       "      <td>54.0</td>\n",
       "      <td>14.0</td>\n",
       "      <td>195.0</td>\n",
       "      <td>1.0</td>\n",
       "    </tr>\n",
       "    <tr>\n",
       "      <th>1</th>\n",
       "      <td>49.0</td>\n",
       "      <td>0.0</td>\n",
       "      <td>65.0</td>\n",
       "      <td>32.0</td>\n",
       "      <td>170.0</td>\n",
       "      <td>3.0</td>\n",
       "    </tr>\n",
       "    <tr>\n",
       "      <th>2</th>\n",
       "      <td>53.0</td>\n",
       "      <td>0.0</td>\n",
       "      <td>82.0</td>\n",
       "      <td>26.0</td>\n",
       "      <td>198.0</td>\n",
       "      <td>6.0</td>\n",
       "    </tr>\n",
       "    <tr>\n",
       "      <th>3</th>\n",
       "      <td>63.0</td>\n",
       "      <td>0.0</td>\n",
       "      <td>100.0</td>\n",
       "      <td>56.0</td>\n",
       "      <td>245.0</td>\n",
       "      <td>1.0</td>\n",
       "    </tr>\n",
       "    <tr>\n",
       "      <th>4</th>\n",
       "      <td>70.0</td>\n",
       "      <td>0.0</td>\n",
       "      <td>105.0</td>\n",
       "      <td>54.0</td>\n",
       "      <td>237.0</td>\n",
       "      <td>3.0</td>\n",
       "    </tr>\n",
       "    <tr>\n",
       "      <th>5</th>\n",
       "      <td>154.0</td>\n",
       "      <td>3.0</td>\n",
       "      <td>238.0</td>\n",
       "      <td>55.0</td>\n",
       "      <td>245.0</td>\n",
       "      <td>5.0</td>\n",
       "    </tr>\n",
       "    <tr>\n",
       "      <th>6</th>\n",
       "      <td>195.0</td>\n",
       "      <td>0.0</td>\n",
       "      <td>384.0</td>\n",
       "      <td>88.0</td>\n",
       "      <td>342.0</td>\n",
       "      <td>12.0</td>\n",
       "    </tr>\n",
       "    <tr>\n",
       "      <th>7</th>\n",
       "      <td>240.0</td>\n",
       "      <td>8.0</td>\n",
       "      <td>523.0</td>\n",
       "      <td>103.0</td>\n",
       "      <td>414.0</td>\n",
       "      <td>7.0</td>\n",
       "    </tr>\n",
       "    <tr>\n",
       "      <th>8</th>\n",
       "      <td>322.0</td>\n",
       "      <td>5.0</td>\n",
       "      <td>653.0</td>\n",
       "      <td>149.0</td>\n",
       "      <td>442.0</td>\n",
       "      <td>7.0</td>\n",
       "    </tr>\n",
       "    <tr>\n",
       "      <th>9</th>\n",
       "      <td>405.0</td>\n",
       "      <td>8.0</td>\n",
       "      <td>681.0</td>\n",
       "      <td>137.0</td>\n",
       "      <td>546.0</td>\n",
       "      <td>4.0</td>\n",
       "    </tr>\n",
       "    <tr>\n",
       "      <th>10</th>\n",
       "      <td>506.0</td>\n",
       "      <td>4.0</td>\n",
       "      <td>770.0</td>\n",
       "      <td>127.0</td>\n",
       "      <td>624.0</td>\n",
       "      <td>9.0</td>\n",
       "    </tr>\n",
       "    <tr>\n",
       "      <th>11</th>\n",
       "      <td>620.0</td>\n",
       "      <td>8.0</td>\n",
       "      <td>742.0</td>\n",
       "      <td>155.0</td>\n",
       "      <td>696.0</td>\n",
       "      <td>9.0</td>\n",
       "    </tr>\n",
       "    <tr>\n",
       "      <th>12</th>\n",
       "      <td>599.0</td>\n",
       "      <td>3.0</td>\n",
       "      <td>612.0</td>\n",
       "      <td>116.0</td>\n",
       "      <td>650.0</td>\n",
       "      <td>4.0</td>\n",
       "    </tr>\n",
       "    <tr>\n",
       "      <th>13</th>\n",
       "      <td>344.0</td>\n",
       "      <td>1.0</td>\n",
       "      <td>259.0</td>\n",
       "      <td>57.0</td>\n",
       "      <td>495.0</td>\n",
       "      <td>1.0</td>\n",
       "    </tr>\n",
       "  </tbody>\n",
       "</table>\n",
       "</div>"
      ],
      "text/plain": [
       "    Asian  Native Hawaiian/Other Pacific Islander  White  African American  \\\n",
       "0    64.0                                     0.0   54.0              14.0   \n",
       "1    49.0                                     0.0   65.0              32.0   \n",
       "2    53.0                                     0.0   82.0              26.0   \n",
       "3    63.0                                     0.0  100.0              56.0   \n",
       "4    70.0                                     0.0  105.0              54.0   \n",
       "5   154.0                                     3.0  238.0              55.0   \n",
       "6   195.0                                     0.0  384.0              88.0   \n",
       "7   240.0                                     8.0  523.0             103.0   \n",
       "8   322.0                                     5.0  653.0             149.0   \n",
       "9   405.0                                     8.0  681.0             137.0   \n",
       "10  506.0                                     4.0  770.0             127.0   \n",
       "11  620.0                                     8.0  742.0             155.0   \n",
       "12  599.0                                     3.0  612.0             116.0   \n",
       "13  344.0                                     1.0  259.0              57.0   \n",
       "\n",
       "    Hispanics  American Indian/Alaska Native  \n",
       "0       195.0                            1.0  \n",
       "1       170.0                            3.0  \n",
       "2       198.0                            6.0  \n",
       "3       245.0                            1.0  \n",
       "4       237.0                            3.0  \n",
       "5       245.0                            5.0  \n",
       "6       342.0                           12.0  \n",
       "7       414.0                            7.0  \n",
       "8       442.0                            7.0  \n",
       "9       546.0                            4.0  \n",
       "10      624.0                            9.0  \n",
       "11      696.0                            9.0  \n",
       "12      650.0                            4.0  \n",
       "13      495.0                            1.0  "
      ]
     },
     "execution_count": 122,
     "metadata": {},
     "output_type": "execute_result"
    }
   ],
   "source": [
    "df.reset_index(drop=True)"
   ]
  },
  {
   "cell_type": "code",
   "execution_count": 103,
   "metadata": {},
   "outputs": [],
   "source": [
    "# This function outputs pie chart based on the years and race\n",
    "def autoplot(num):\n",
    "    labels = 'Asian', 'Native Hawaiian', 'White', 'African American', 'Hispanics', 'American Indian/Alaska Native'\n",
    "    colors = ['gold', 'yellowgreen', 'lightcoral', 'lightskyblue', 'pink', 'red']\n",
    "    explode = (0.1, 0, 0, 0, 0, 0)  # explode 1st slice\n",
    "    sizes = df.iloc[num].values.tolist()\n",
    "    A = 2002\n",
    "    B = A + num\n",
    "    \n",
    "    plt.pie(sizes, explode=explode, labels=labels, colors=colors,\n",
    "        autopct='%1.1f%%', shadow=True, startangle=140)\n",
    "    plt.title(\"Percentage of each race in %i\" %B)\n",
    "    plt.axis('equal')"
   ]
  },
  {
   "cell_type": "markdown",
   "metadata": {},
   "source": [
    "This pie graph tells the percentage of each race on each year. The percentage is calculated based on all the majors. "
   ]
  },
  {
   "cell_type": "code",
   "execution_count": 184,
   "metadata": {},
   "outputs": [
    {
     "data": {
      "image/png": "[encoded data removed]",
      "text/plain": [
       "<matplotlib.figure.Figure at 0x7fc5841e0ed0>"
      ]
     },
     "metadata": {},
     "output_type": "display_data"
    }
   ],
   "source": [
    "autoplot(10)"
   ]
  }
 ],
 "metadata": {
  "kernelspec": {
   "display_name": "Python 2",
   "language": "python",
   "name": "python2"
  },
  "language_info": {
   "codemirror_mode": {
    "name": "ipython",
    "version": 2
   },
   "file_extension": ".py",
   "mimetype": "text/x-python",
   "name": "python",
   "nbconvert_exporter": "python",
   "pygments_lexer": "ipython2",
   "version": "2.7.14"
  }
 },
 "nbformat": 4,
 "nbformat_minor": 2
}
